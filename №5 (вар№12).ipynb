{
 "cells": [
  {
   "cell_type": "markdown",
   "id": "eb840c0d",
   "metadata": {},
   "source": [
    "# Практическая работа №5\n",
    "\n",
    "## КМБО-06-22, Масленников Иван\n",
    "## Тема №19 \"Данные о бронировании отелей\""
   ]
  },
  {
   "cell_type": "code",
   "execution_count": 1,
   "id": "744d6e7e",
   "metadata": {},
   "outputs": [],
   "source": [
    "import numpy as np \n",
    "import pandas as pd \n",
    "import matplotlib.pyplot as plt \n",
    "import seaborn as sns \n",
    "from sklearn.preprocessing import StandardScaler\n",
    "from sklearn.preprocessing import OneHotEncoder\n",
    "from sklearn.model_selection import train_test_split\n",
    "import statsmodels.api as sm\n",
    "from statsmodels.stats.outliers_influence import variance_inflation_factor\n",
    "from sklearn import preprocessing\n",
    "from sklearn.decomposition import PCA\n",
    "from sklearn.manifold import TSNE"
   ]
  },
  {
   "cell_type": "markdown",
   "id": "9540f332",
   "metadata": {},
   "source": [
    "Считываем данные файла:"
   ]
  },
  {
   "cell_type": "code",
   "execution_count": 2,
   "id": "bfac8255",
   "metadata": {},
   "outputs": [],
   "source": [
    "df = pd.read_csv('C:\\\\Users\\\\Иван\\\\Desktop\\\\уник\\\\R\\\\hotel_bookings.csv')"
   ]
  },
  {
   "cell_type": "markdown",
   "id": "141d6572",
   "metadata": {},
   "source": [
    "Выведем основную информацию по таблице:"
   ]
  },
  {
   "cell_type": "code",
   "execution_count": 3,
   "id": "cb4c0e68",
   "metadata": {},
   "outputs": [
    {
     "name": "stdout",
     "output_type": "stream",
     "text": [
      "<class 'pandas.core.frame.DataFrame'>\n",
      "RangeIndex: 119390 entries, 0 to 119389\n",
      "Data columns (total 32 columns):\n",
      " #   Column                          Non-Null Count   Dtype  \n",
      "---  ------                          --------------   -----  \n",
      " 0   hotel                           119390 non-null  object \n",
      " 1   is_canceled                     119390 non-null  int64  \n",
      " 2   lead_time                       119390 non-null  int64  \n",
      " 3   arrival_date_year               119390 non-null  int64  \n",
      " 4   arrival_date_month              119390 non-null  object \n",
      " 5   arrival_date_week_number        119390 non-null  int64  \n",
      " 6   arrival_date_day_of_month       119390 non-null  int64  \n",
      " 7   stays_in_weekend_nights         119390 non-null  int64  \n",
      " 8   stays_in_week_nights            119390 non-null  int64  \n",
      " 9   adults                          119390 non-null  int64  \n",
      " 10  children                        119386 non-null  float64\n",
      " 11  babies                          119390 non-null  int64  \n",
      " 12  meal                            119390 non-null  object \n",
      " 13  country                         118902 non-null  object \n",
      " 14  market_segment                  119390 non-null  object \n",
      " 15  distribution_channel            119390 non-null  object \n",
      " 16  is_repeated_guest               119390 non-null  int64  \n",
      " 17  previous_cancellations          119390 non-null  int64  \n",
      " 18  previous_bookings_not_canceled  119390 non-null  int64  \n",
      " 19  reserved_room_type              119390 non-null  object \n",
      " 20  assigned_room_type              119390 non-null  object \n",
      " 21  booking_changes                 119390 non-null  int64  \n",
      " 22  deposit_type                    119390 non-null  object \n",
      " 23  agent                           103050 non-null  float64\n",
      " 24  company                         6797 non-null    float64\n",
      " 25  days_in_waiting_list            119390 non-null  int64  \n",
      " 26  customer_type                   119390 non-null  object \n",
      " 27  adr                             119390 non-null  float64\n",
      " 28  required_car_parking_spaces     119390 non-null  int64  \n",
      " 29  total_of_special_requests       119390 non-null  int64  \n",
      " 30  reservation_status              119390 non-null  object \n",
      " 31  reservation_status_date         119390 non-null  object \n",
      "dtypes: float64(4), int64(16), object(12)\n",
      "memory usage: 29.1+ MB\n"
     ]
    }
   ],
   "source": [
    "# получение информации о типах данных и количестве непустых значений для каждого признака\n",
    "df.info()"
   ]
  },
  {
   "cell_type": "markdown",
   "id": "ae9f3e5e",
   "metadata": {},
   "source": [
    "## 1. Сколько в датасете объектов и признаков? Дать описание каждому признаку, если оно есть.\n",
    "\n",
    "### В выбранном наборе 119390 объектов и 32 признака.\n",
    "\n",
    " 1)  hotel (H1 = Курортный отель или H2 = Городской отель)                                                             object \n",
    " \n",
    " 2)  is_canceled (Значение, указывающее, было ли отменено бронирование (1) или нет (0))                                int64  \n",
    " \n",
    " 3)  lead_time (Количество дней, прошедших между датой внесения бронирования в PMS и датой прибытия)                   int64  \n",
    " \n",
    " 4)  arrival_date_year (Год прибытия)                                                                                  int64  \n",
    " \n",
    " 5)  arrival_date_month (Месяц прибытия)                                                                               object \n",
    " \n",
    " 6)  arrival_date_week_number (Номер недели в году для даты прибытия)                                                  int64  \n",
    " \n",
    " 7)  arrival_date_day_of_month (День прибытия)                                                                         int64  \n",
    " \n",
    " 8)  stays_in_weekend_nights (Количество ночей на выходных, в которые гость останавливался или бронировал номер отеля) int64  \n",
    " \n",
    " 9)  stays_in_week_nights (Количество ночей в неделю, в которые гость останавливался или бронировал номер в отеле)     int64  \n",
    " \n",
    " 10)  adults (Количество взрослых)                                                                                      int64  \n",
    " \n",
    " 11) children (Количество детей)                                                                                       float64   \n",
    " \n",
    " 12) babies (Количество малышей)                                                                                       int64  \n",
    " \n",
    " 13) meal (Тип забронированного питания. Категории представлены в стандартных пакетах гостиничного питания: Undefined/SC – без пакета питания; BB – Кровать и завтрак; HB – полупансион (завтрак и еще один прием пищи – обычно ужин); FB – Полный пансион (завтрак, обед и ужин))                                                                                                object\n",
    " \n",
    " 14) country (Страна происхождения. Категории представлены в формате ISO 3155-3:2013)                                  object\n",
    " \n",
    " 15) market_segment (Обозначение сегмента рынка. В категориях термин “TA” означает “Туристические агенты”, а “TO” означает “Туроператоры”.)                                                                                                       object \n",
    " \n",
    " 16) distribution_channel (Канал распространения бронирования. Термин “TA” означает “Туристические агенты”, а “TO” означает “Туроператоры”.)                                                                                                       object \n",
    " \n",
    " 17) is_repeated_guest (Значение, указывающее, было ли имя при бронировании от повторного гостя (1) или нет (0))       int64     \n",
    " \n",
    " 18) previous_cancellations (Кол. предыдущих бронирований, которые были отменены клиентом до текущего бронирования)    int64\n",
    " \n",
    " 19) previous_bookings_not_canceled (Кол. предыдущих бронирований, не отмененных клиентом до текущего бронирования)    int64\n",
    " \n",
    " 20) reserved_room_type (Код забронированного типа номера. Код представлен вместо обозначения в целях анонимности.)    object\n",
    " \n",
    " 21) assigned_room_type (Код для типа номера, указанного при бронировании. Иногда назначенный тип номера отличается от забронированного по причинам работы отеля (например, овербукинг) или по запросу клиента. Код представлен вместо обозначения по соображениям анонимности.)                                                                                             object \n",
    " \n",
    " 22) booking_changes (Кол. изменений, внесенных в бронирование с момента ввода в PMS до регистрации заезда или отмены) int64\n",
    " \n",
    " 23) deposit_type (Указание на то, внес ли клиент депозит для гарантии бронирования. Эта переменная может принимать три категории: Без депозита – депозит не был внесен; Невозвратный – депозит был внесен в размере общей стоимости проживания; Подлежащий возврату – депозит был внесен на сумму, меньшую общей стоимости проживания.)                                object\n",
    " \n",
    " 24) agent (Идентификационный номер туристического агентства, оформившего бронирование)                                float64\n",
    " \n",
    " 25) company (Идентификационный номер компании/юридического лица, оформившего бронирование или ответственного за оплату бронирования. Идентификатор указывается вместо обозначения по соображениям анонимности)                                float64\n",
    " \n",
    " 26) days_in_waiting_list (Кол. дней, в которыt бронирование было в списке ожидания, прежде чем оно было подтверждено) int64\n",
    " \n",
    " 27) customer_type (Тип бронирования, предполагающий одну из четырех категорий: Контрактный - когда с бронированием связано выделение или другой тип контракта; Групповой – когда бронирование связано с группой; Временный – когда бронирование не является частью группы или контракта и не связано с другим временным бронированием; Временная сторона - когда бронирование является временным, но связано, по крайней мере, с другим временным бронированием)                                              object\n",
    " \n",
    " 28) adr (Средняя суточная ставка, полученная путем деления суммы всех сделок по размещению на общее количество ночей проживания)                                                                                                            float64\n",
    " \n",
    " 29) required_car_parking_spaces (Количество парковочных мест, требуемое заказчиком)                                   int64\n",
    " \n",
    " 30) total_of_special_requests (Кол. особых запросов заказчика (например, двуспальная кровать или высокий этаж))       int64\n",
    " \n",
    " 31) reservation_status (Статус последнего бронирования, предполагающий одну из трех категорий: Отменено – бронирование было отменено клиентом; Выезд - клиент зарегистрировался, но уже отбыл; Незаезд – клиент не зарегистрировался и не сообщил отелю о причине)                                                                                                               object \n",
    " \n",
    " 32) reservation_status_date (Дата, на которую был установлен последний статус. Эту переменную можно использовать в сочетании со статусом бронирования, чтобы понять, когда было отменено бронирование или когда клиент выписался из отеля)             object"
   ]
  },
  {
   "cell_type": "markdown",
   "id": "5d2833bd",
   "metadata": {},
   "source": [
    "## 2. Сколько в датасете категориальных признаков, какие именно?"
   ]
  },
  {
   "cell_type": "code",
   "execution_count": 4,
   "id": "d2e43de1",
   "metadata": {},
   "outputs": [
    {
     "name": "stdout",
     "output_type": "stream",
     "text": [
      "Количество категориальных признаков в датасете:  12\n",
      "Список категориальных признаков:  ['hotel', 'arrival_date_month', 'meal', 'country', 'market_segment', 'distribution_channel', 'reserved_room_type', 'assigned_room_type', 'deposit_type', 'customer_type', 'reservation_status', 'reservation_status_date']\n"
     ]
    }
   ],
   "source": [
    "# отбор категориальных признаков\n",
    "cat_columns = df.select_dtypes(['object']).columns\n",
    "num_cat_columns = len(cat_columns)\n",
    "\n",
    "#Вывод категориальных признаков\n",
    "print(\"Количество категориальных признаков в датасете: \", num_cat_columns)\n",
    "print(\"Список категориальных признаков: \", list(cat_columns))"
   ]
  },
  {
   "cell_type": "markdown",
   "id": "bb2d8a25",
   "metadata": {},
   "source": [
    "Из 32 признаков, перечисленных выше, категориальными являются:\n",
    "1) hotel - тип отеля (City Hotel или Resort Hotel)\n",
    "\n",
    "2) arrival_date_month - месяц прибытия гостя\n",
    "\n",
    "3) meal - тип питания, предоставляемый в отеле\n",
    "\n",
    "4) country - страна происхождения гостя\n",
    "\n",
    "5) market_segment - рыночный сегмент, в котором было сделано бронирование\n",
    "\n",
    "6) distribution_channel - канал распространения, через который было сделано бронирование\n",
    "\n",
    "7) is_repeated_guest - бинарный признак, указывающий, является ли гость повторным (1) или нет (0)\n",
    "\n",
    "8) reserved_room_type - тип забронированного номера\n",
    "\n",
    "9) assigned_room_type - тип номера, который был назначен при заселении гостя (может отличаться от забронированного)\n",
    "\n",
    "10) deposit_type - тип депозита, который был внесен для гарантирования бронирования\n",
    "\n",
    "11) customer_type - тип клиента (индивидуальный или групповой)\n",
    "\n",
    "12) reservation_status - текущий статус бронирования (забронирован, изменен или отменен)\n",
    "\n",
    "Итого 12 категориальных признаков"
   ]
  },
  {
   "cell_type": "markdown",
   "id": "3bf0dcc2",
   "metadata": {},
   "source": [
    "## 3. Столбец с макимальным количеством уникальных значений категориального признака?"
   ]
  },
  {
   "cell_type": "code",
   "execution_count": 5,
   "id": "28fd08af",
   "metadata": {
    "scrolled": true
   },
   "outputs": [
    {
     "name": "stdout",
     "output_type": "stream",
     "text": [
      "Столбец с максимальным количеством уникальных значений категориального признака:  reservation_status_date\n",
      "Количество уникальных значений:  926\n"
     ]
    }
   ],
   "source": [
    "# Сосздаем пустой словарь\n",
    "unique_counts = {}\n",
    "\n",
    "for col in df.columns:\n",
    "    # Если тип столбца является object (категориальный), то подсчитать количество уникальных значений\n",
    "    if df[col].dtype == 'object':\n",
    "        unique_values = df[col].nunique()\n",
    "        # Количество уникальных значений в словарь\n",
    "        unique_counts[col] = unique_values\n",
    "\n",
    "# Столбец с максимальным количеством уникальных значений категориального признака\n",
    "max_column = max(unique_counts, key=unique_counts.get)\n",
    "\n",
    "print(\"Столбец с максимальным количеством уникальных значений категориального признака: \", max_column)\n",
    "print(\"Количество уникальных значений: \", unique_values)"
   ]
  },
  {
   "cell_type": "markdown",
   "id": "83707f8b",
   "metadata": {},
   "source": [
    "Из данных приведённых в пункте 1 и результатов работы функции nunique() видно, максимальное количество уникальных значений = 926 для стобца \"reservation_status_date\""
   ]
  },
  {
   "cell_type": "markdown",
   "id": "27774e08",
   "metadata": {},
   "source": [
    "## 4. Есть ли бинарные признаки?"
   ]
  },
  {
   "cell_type": "code",
   "execution_count": 6,
   "id": "a8427335",
   "metadata": {},
   "outputs": [
    {
     "name": "stdout",
     "output_type": "stream",
     "text": [
      "Переменные имеющие бинарные признаки: \n",
      "1 hotel\n",
      "2 is_canceled\n",
      "3 is_repeated_guest\n",
      "Количество переменных имеющих бинарные признаки:  3\n"
     ]
    }
   ],
   "source": [
    "i = 1\n",
    "print(\"Переменные имеющие бинарные признаки: \")\n",
    "\n",
    "# Перебор признаков у котопрых макимум 2 значения\n",
    "for col in df.columns:\n",
    "    if df[col].nunique() == 2:\n",
    "        print(i, col)\n",
    "        i += 1\n",
    "        \n",
    "print(\"Количество переменных имеющих бинарные признаки: \", i-1)"
   ]
  },
  {
   "cell_type": "markdown",
   "id": "8ee14637",
   "metadata": {},
   "source": [
    "Из данных приведённых в пункте 1 и результатов работы функции, выполненной в блоке выше, видно, что бинарными являются 3 признака: hotel, is_canceled, is_repeated_guest"
   ]
  },
  {
   "cell_type": "markdown",
   "id": "2829401c",
   "metadata": {},
   "source": [
    "## 5. Какие числовые признаки?"
   ]
  },
  {
   "cell_type": "code",
   "execution_count": 7,
   "id": "485e4c55",
   "metadata": {},
   "outputs": [
    {
     "name": "stdout",
     "output_type": "stream",
     "text": [
      "['is_canceled', 'lead_time', 'arrival_date_year', 'arrival_date_week_number', 'arrival_date_day_of_month', 'stays_in_weekend_nights', 'stays_in_week_nights', 'adults', 'children', 'babies', 'is_repeated_guest', 'previous_cancellations', 'previous_bookings_not_canceled', 'booking_changes', 'agent', 'company', 'days_in_waiting_list', 'adr', 'required_car_parking_spaces', 'total_of_special_requests']\n",
      "Количество числовых признаков:  20\n"
     ]
    }
   ],
   "source": [
    "# выбор только числовых признаков\n",
    "numeric_cols = df.select_dtypes(include='number').columns.tolist()\n",
    "\n",
    "# вывод списка числовых признаков\n",
    "print(numeric_cols)\n",
    "# вывод количества числовых признаков\n",
    "print(\"Количество числовых признаков: \",len(numeric_cols))"
   ]
  },
  {
   "cell_type": "markdown",
   "id": "72089a2c",
   "metadata": {},
   "source": [
    "Из данных приведённых в пункте 1 и результатов работы функции, выполненной в блоке выше, видно, что чисто числовыми являются 20 признаков: ['is_canceled', 'lead_time', 'arrival_date_year', 'arrival_date_week_number', 'arrival_date_day_of_month', 'stays_in_weekend_nights', 'stays_in_week_nights', 'adults', 'children', 'babies', 'is_repeated_guest', 'previous_cancellations', 'previous_bookings_not_canceled', 'booking_changes', 'agent', 'company', 'days_in_waiting_list', 'adr', 'required_car_parking_spaces', 'total_of_special_requests']."
   ]
  },
  {
   "cell_type": "markdown",
   "id": "f85fc04d",
   "metadata": {},
   "source": [
    "## 6. Есть ли пропуски?"
   ]
  },
  {
   "cell_type": "code",
   "execution_count": 8,
   "id": "97e5a46c",
   "metadata": {},
   "outputs": [
    {
     "name": "stdout",
     "output_type": "stream",
     "text": [
      "hotel                                  0\n",
      "is_canceled                            0\n",
      "lead_time                              0\n",
      "arrival_date_year                      0\n",
      "arrival_date_month                     0\n",
      "arrival_date_week_number               0\n",
      "arrival_date_day_of_month              0\n",
      "stays_in_weekend_nights                0\n",
      "stays_in_week_nights                   0\n",
      "adults                                 0\n",
      "children                               4\n",
      "babies                                 0\n",
      "meal                                   0\n",
      "country                              488\n",
      "market_segment                         0\n",
      "distribution_channel                   0\n",
      "is_repeated_guest                      0\n",
      "previous_cancellations                 0\n",
      "previous_bookings_not_canceled         0\n",
      "reserved_room_type                     0\n",
      "assigned_room_type                     0\n",
      "booking_changes                        0\n",
      "deposit_type                           0\n",
      "agent                              16340\n",
      "company                           112593\n",
      "days_in_waiting_list                   0\n",
      "customer_type                          0\n",
      "adr                                    0\n",
      "required_car_parking_spaces            0\n",
      "total_of_special_requests              0\n",
      "reservation_status                     0\n",
      "reservation_status_date                0\n",
      "dtype: int64\n"
     ]
    }
   ],
   "source": [
    "# Создание объекта а с вычислением суммы уникальных объектов\n",
    "a = df.isnull().sum()\n",
    "print(a)"
   ]
  },
  {
   "cell_type": "markdown",
   "id": "d1b10b17",
   "metadata": {},
   "source": [
    "Из результата работы функции isnull().sum(), в датасете имеются пропуски в некоторых признаках."
   ]
  },
  {
   "cell_type": "markdown",
   "id": "71ae6048",
   "metadata": {},
   "source": [
    "## 7. Сколько объектов с пропусками?"
   ]
  },
  {
   "cell_type": "code",
   "execution_count": 9,
   "id": "93fd9e29",
   "metadata": {},
   "outputs": [
    {
     "name": "stdout",
     "output_type": "stream",
     "text": [
      "Количество стобцов с пропущенными переменными:  4\n"
     ]
    }
   ],
   "source": [
    "# Вычисление количества объектов у которых имеется больше 0 пропусков\n",
    "num_cols_with_missing_values = df.isnull().any().sum()\n",
    "print(\"Количество стобцов с пропущенными переменными: \",num_cols_with_missing_values)"
   ]
  },
  {
   "cell_type": "markdown",
   "id": "da4648be",
   "metadata": {},
   "source": [
    "Из результата работы функции в 6 пункте и результата работы блока кода выше, в датасете имеются пропуски в 4 признаках: children, country, agent, company."
   ]
  },
  {
   "cell_type": "markdown",
   "id": "474683b6",
   "metadata": {},
   "source": [
    "## 8. Столбец с максимальным количеством пропусков?"
   ]
  },
  {
   "cell_type": "code",
   "execution_count": 10,
   "id": "c8728466",
   "metadata": {},
   "outputs": [
    {
     "name": "stdout",
     "output_type": "stream",
     "text": [
      "hotel                                  0\n",
      "is_canceled                            0\n",
      "lead_time                              0\n",
      "arrival_date_year                      0\n",
      "arrival_date_month                     0\n",
      "arrival_date_week_number               0\n",
      "arrival_date_day_of_month              0\n",
      "stays_in_weekend_nights                0\n",
      "stays_in_week_nights                   0\n",
      "adults                                 0\n",
      "children                               4\n",
      "babies                                 0\n",
      "meal                                   0\n",
      "country                              488\n",
      "market_segment                         0\n",
      "distribution_channel                   0\n",
      "is_repeated_guest                      0\n",
      "previous_cancellations                 0\n",
      "previous_bookings_not_canceled         0\n",
      "reserved_room_type                     0\n",
      "assigned_room_type                     0\n",
      "booking_changes                        0\n",
      "deposit_type                           0\n",
      "agent                              16340\n",
      "company                           112593\n",
      "days_in_waiting_list                   0\n",
      "customer_type                          0\n",
      "adr                                    0\n",
      "required_car_parking_spaces            0\n",
      "total_of_special_requests              0\n",
      "reservation_status                     0\n",
      "reservation_status_date                0\n",
      "dtype: int64\n",
      "Маскимальное число пропусков в стобце:  company 112593\n"
     ]
    }
   ],
   "source": [
    "# Создание объекта а с вычислением суммы уникальных объектов\n",
    "a = df.isnull().sum()\n",
    "# Нахождение признака с максимальным количеством пропусков\n",
    "max_col_name = a.idxmax()\n",
    "print(a)\n",
    "print(\"Маскимальное число пропусков в стобце: \", max_col_name, max(a))"
   ]
  },
  {
   "cell_type": "markdown",
   "id": "35ac06cb",
   "metadata": {},
   "source": [
    "Из результата работы блока кода представленного выше, можно сделать вывод, что столбцом с максимальным числом пропусков это company с количество пропусков равным 112593."
   ]
  },
  {
   "cell_type": "markdown",
   "id": "64fde1df",
   "metadata": {},
   "source": [
    "## 9. Есть ли на ваш взгляд выбросы, аномальные значения?"
   ]
  },
  {
   "cell_type": "code",
   "execution_count": 11,
   "id": "3e797311",
   "metadata": {},
   "outputs": [
    {
     "data": {
      "text/html": [
       "<div>\n",
       "<style scoped>\n",
       "    .dataframe tbody tr th:only-of-type {\n",
       "        vertical-align: middle;\n",
       "    }\n",
       "\n",
       "    .dataframe tbody tr th {\n",
       "        vertical-align: top;\n",
       "    }\n",
       "\n",
       "    .dataframe thead th {\n",
       "        text-align: right;\n",
       "    }\n",
       "</style>\n",
       "<table border=\"1\" class=\"dataframe\">\n",
       "  <thead>\n",
       "    <tr style=\"text-align: right;\">\n",
       "      <th></th>\n",
       "      <th>is_canceled</th>\n",
       "      <th>lead_time</th>\n",
       "      <th>arrival_date_year</th>\n",
       "      <th>arrival_date_week_number</th>\n",
       "      <th>arrival_date_day_of_month</th>\n",
       "      <th>stays_in_weekend_nights</th>\n",
       "      <th>stays_in_week_nights</th>\n",
       "      <th>adults</th>\n",
       "      <th>children</th>\n",
       "      <th>babies</th>\n",
       "      <th>is_repeated_guest</th>\n",
       "      <th>previous_cancellations</th>\n",
       "      <th>previous_bookings_not_canceled</th>\n",
       "      <th>booking_changes</th>\n",
       "      <th>agent</th>\n",
       "      <th>company</th>\n",
       "      <th>days_in_waiting_list</th>\n",
       "      <th>adr</th>\n",
       "      <th>required_car_parking_spaces</th>\n",
       "      <th>total_of_special_requests</th>\n",
       "    </tr>\n",
       "  </thead>\n",
       "  <tbody>\n",
       "    <tr>\n",
       "      <th>count</th>\n",
       "      <td>119390.000000</td>\n",
       "      <td>119390.000000</td>\n",
       "      <td>119390.000000</td>\n",
       "      <td>119390.000000</td>\n",
       "      <td>119390.000000</td>\n",
       "      <td>119390.000000</td>\n",
       "      <td>119390.000000</td>\n",
       "      <td>119390.000000</td>\n",
       "      <td>119386.000000</td>\n",
       "      <td>119390.000000</td>\n",
       "      <td>119390.000000</td>\n",
       "      <td>119390.000000</td>\n",
       "      <td>119390.000000</td>\n",
       "      <td>119390.000000</td>\n",
       "      <td>103050.000000</td>\n",
       "      <td>6797.000000</td>\n",
       "      <td>119390.000000</td>\n",
       "      <td>119390.000000</td>\n",
       "      <td>119390.000000</td>\n",
       "      <td>119390.000000</td>\n",
       "    </tr>\n",
       "    <tr>\n",
       "      <th>mean</th>\n",
       "      <td>0.370416</td>\n",
       "      <td>104.011416</td>\n",
       "      <td>2016.156554</td>\n",
       "      <td>27.165173</td>\n",
       "      <td>15.798241</td>\n",
       "      <td>0.927599</td>\n",
       "      <td>2.500302</td>\n",
       "      <td>1.856403</td>\n",
       "      <td>0.103890</td>\n",
       "      <td>0.007949</td>\n",
       "      <td>0.031912</td>\n",
       "      <td>0.087118</td>\n",
       "      <td>0.137097</td>\n",
       "      <td>0.221124</td>\n",
       "      <td>86.693382</td>\n",
       "      <td>189.266735</td>\n",
       "      <td>2.321149</td>\n",
       "      <td>101.831122</td>\n",
       "      <td>0.062518</td>\n",
       "      <td>0.571363</td>\n",
       "    </tr>\n",
       "    <tr>\n",
       "      <th>std</th>\n",
       "      <td>0.482918</td>\n",
       "      <td>106.863097</td>\n",
       "      <td>0.707476</td>\n",
       "      <td>13.605138</td>\n",
       "      <td>8.780829</td>\n",
       "      <td>0.998613</td>\n",
       "      <td>1.908286</td>\n",
       "      <td>0.579261</td>\n",
       "      <td>0.398561</td>\n",
       "      <td>0.097436</td>\n",
       "      <td>0.175767</td>\n",
       "      <td>0.844336</td>\n",
       "      <td>1.497437</td>\n",
       "      <td>0.652306</td>\n",
       "      <td>110.774548</td>\n",
       "      <td>131.655015</td>\n",
       "      <td>17.594721</td>\n",
       "      <td>50.535790</td>\n",
       "      <td>0.245291</td>\n",
       "      <td>0.792798</td>\n",
       "    </tr>\n",
       "    <tr>\n",
       "      <th>min</th>\n",
       "      <td>0.000000</td>\n",
       "      <td>0.000000</td>\n",
       "      <td>2015.000000</td>\n",
       "      <td>1.000000</td>\n",
       "      <td>1.000000</td>\n",
       "      <td>0.000000</td>\n",
       "      <td>0.000000</td>\n",
       "      <td>0.000000</td>\n",
       "      <td>0.000000</td>\n",
       "      <td>0.000000</td>\n",
       "      <td>0.000000</td>\n",
       "      <td>0.000000</td>\n",
       "      <td>0.000000</td>\n",
       "      <td>0.000000</td>\n",
       "      <td>1.000000</td>\n",
       "      <td>6.000000</td>\n",
       "      <td>0.000000</td>\n",
       "      <td>-6.380000</td>\n",
       "      <td>0.000000</td>\n",
       "      <td>0.000000</td>\n",
       "    </tr>\n",
       "    <tr>\n",
       "      <th>25%</th>\n",
       "      <td>0.000000</td>\n",
       "      <td>18.000000</td>\n",
       "      <td>2016.000000</td>\n",
       "      <td>16.000000</td>\n",
       "      <td>8.000000</td>\n",
       "      <td>0.000000</td>\n",
       "      <td>1.000000</td>\n",
       "      <td>2.000000</td>\n",
       "      <td>0.000000</td>\n",
       "      <td>0.000000</td>\n",
       "      <td>0.000000</td>\n",
       "      <td>0.000000</td>\n",
       "      <td>0.000000</td>\n",
       "      <td>0.000000</td>\n",
       "      <td>9.000000</td>\n",
       "      <td>62.000000</td>\n",
       "      <td>0.000000</td>\n",
       "      <td>69.290000</td>\n",
       "      <td>0.000000</td>\n",
       "      <td>0.000000</td>\n",
       "    </tr>\n",
       "    <tr>\n",
       "      <th>50%</th>\n",
       "      <td>0.000000</td>\n",
       "      <td>69.000000</td>\n",
       "      <td>2016.000000</td>\n",
       "      <td>28.000000</td>\n",
       "      <td>16.000000</td>\n",
       "      <td>1.000000</td>\n",
       "      <td>2.000000</td>\n",
       "      <td>2.000000</td>\n",
       "      <td>0.000000</td>\n",
       "      <td>0.000000</td>\n",
       "      <td>0.000000</td>\n",
       "      <td>0.000000</td>\n",
       "      <td>0.000000</td>\n",
       "      <td>0.000000</td>\n",
       "      <td>14.000000</td>\n",
       "      <td>179.000000</td>\n",
       "      <td>0.000000</td>\n",
       "      <td>94.575000</td>\n",
       "      <td>0.000000</td>\n",
       "      <td>0.000000</td>\n",
       "    </tr>\n",
       "    <tr>\n",
       "      <th>75%</th>\n",
       "      <td>1.000000</td>\n",
       "      <td>160.000000</td>\n",
       "      <td>2017.000000</td>\n",
       "      <td>38.000000</td>\n",
       "      <td>23.000000</td>\n",
       "      <td>2.000000</td>\n",
       "      <td>3.000000</td>\n",
       "      <td>2.000000</td>\n",
       "      <td>0.000000</td>\n",
       "      <td>0.000000</td>\n",
       "      <td>0.000000</td>\n",
       "      <td>0.000000</td>\n",
       "      <td>0.000000</td>\n",
       "      <td>0.000000</td>\n",
       "      <td>229.000000</td>\n",
       "      <td>270.000000</td>\n",
       "      <td>0.000000</td>\n",
       "      <td>126.000000</td>\n",
       "      <td>0.000000</td>\n",
       "      <td>1.000000</td>\n",
       "    </tr>\n",
       "    <tr>\n",
       "      <th>max</th>\n",
       "      <td>1.000000</td>\n",
       "      <td>737.000000</td>\n",
       "      <td>2017.000000</td>\n",
       "      <td>53.000000</td>\n",
       "      <td>31.000000</td>\n",
       "      <td>19.000000</td>\n",
       "      <td>50.000000</td>\n",
       "      <td>55.000000</td>\n",
       "      <td>10.000000</td>\n",
       "      <td>10.000000</td>\n",
       "      <td>1.000000</td>\n",
       "      <td>26.000000</td>\n",
       "      <td>72.000000</td>\n",
       "      <td>21.000000</td>\n",
       "      <td>535.000000</td>\n",
       "      <td>543.000000</td>\n",
       "      <td>391.000000</td>\n",
       "      <td>5400.000000</td>\n",
       "      <td>8.000000</td>\n",
       "      <td>5.000000</td>\n",
       "    </tr>\n",
       "  </tbody>\n",
       "</table>\n",
       "</div>"
      ],
      "text/plain": [
       "         is_canceled      lead_time  arrival_date_year   \n",
       "count  119390.000000  119390.000000      119390.000000  \\\n",
       "mean        0.370416     104.011416        2016.156554   \n",
       "std         0.482918     106.863097           0.707476   \n",
       "min         0.000000       0.000000        2015.000000   \n",
       "25%         0.000000      18.000000        2016.000000   \n",
       "50%         0.000000      69.000000        2016.000000   \n",
       "75%         1.000000     160.000000        2017.000000   \n",
       "max         1.000000     737.000000        2017.000000   \n",
       "\n",
       "       arrival_date_week_number  arrival_date_day_of_month   \n",
       "count             119390.000000              119390.000000  \\\n",
       "mean                  27.165173                  15.798241   \n",
       "std                   13.605138                   8.780829   \n",
       "min                    1.000000                   1.000000   \n",
       "25%                   16.000000                   8.000000   \n",
       "50%                   28.000000                  16.000000   \n",
       "75%                   38.000000                  23.000000   \n",
       "max                   53.000000                  31.000000   \n",
       "\n",
       "       stays_in_weekend_nights  stays_in_week_nights         adults   \n",
       "count            119390.000000         119390.000000  119390.000000  \\\n",
       "mean                  0.927599              2.500302       1.856403   \n",
       "std                   0.998613              1.908286       0.579261   \n",
       "min                   0.000000              0.000000       0.000000   \n",
       "25%                   0.000000              1.000000       2.000000   \n",
       "50%                   1.000000              2.000000       2.000000   \n",
       "75%                   2.000000              3.000000       2.000000   \n",
       "max                  19.000000             50.000000      55.000000   \n",
       "\n",
       "            children         babies  is_repeated_guest   \n",
       "count  119386.000000  119390.000000      119390.000000  \\\n",
       "mean        0.103890       0.007949           0.031912   \n",
       "std         0.398561       0.097436           0.175767   \n",
       "min         0.000000       0.000000           0.000000   \n",
       "25%         0.000000       0.000000           0.000000   \n",
       "50%         0.000000       0.000000           0.000000   \n",
       "75%         0.000000       0.000000           0.000000   \n",
       "max        10.000000      10.000000           1.000000   \n",
       "\n",
       "       previous_cancellations  previous_bookings_not_canceled   \n",
       "count           119390.000000                   119390.000000  \\\n",
       "mean                 0.087118                        0.137097   \n",
       "std                  0.844336                        1.497437   \n",
       "min                  0.000000                        0.000000   \n",
       "25%                  0.000000                        0.000000   \n",
       "50%                  0.000000                        0.000000   \n",
       "75%                  0.000000                        0.000000   \n",
       "max                 26.000000                       72.000000   \n",
       "\n",
       "       booking_changes          agent      company  days_in_waiting_list   \n",
       "count    119390.000000  103050.000000  6797.000000         119390.000000  \\\n",
       "mean          0.221124      86.693382   189.266735              2.321149   \n",
       "std           0.652306     110.774548   131.655015             17.594721   \n",
       "min           0.000000       1.000000     6.000000              0.000000   \n",
       "25%           0.000000       9.000000    62.000000              0.000000   \n",
       "50%           0.000000      14.000000   179.000000              0.000000   \n",
       "75%           0.000000     229.000000   270.000000              0.000000   \n",
       "max          21.000000     535.000000   543.000000            391.000000   \n",
       "\n",
       "                 adr  required_car_parking_spaces  total_of_special_requests  \n",
       "count  119390.000000                119390.000000              119390.000000  \n",
       "mean      101.831122                     0.062518                   0.571363  \n",
       "std        50.535790                     0.245291                   0.792798  \n",
       "min        -6.380000                     0.000000                   0.000000  \n",
       "25%        69.290000                     0.000000                   0.000000  \n",
       "50%        94.575000                     0.000000                   0.000000  \n",
       "75%       126.000000                     0.000000                   1.000000  \n",
       "max      5400.000000                     8.000000                   5.000000  "
      ]
     },
     "execution_count": 11,
     "metadata": {},
     "output_type": "execute_result"
    }
   ],
   "source": [
    "df.describe()"
   ]
  },
  {
   "cell_type": "markdown",
   "id": "98cffe63",
   "metadata": {},
   "source": [
    "Из графиков можно увидеть, что некоторые переменные имеют выбросы, например, переменные lead_time, adr, previous_cancellations, days_in_waiting_list, stays_in_weekend_nights, stays_in_week_nights."
   ]
  },
  {
   "cell_type": "markdown",
   "id": "9d9424ac",
   "metadata": {},
   "source": [
    "## 10. Столбец с максимальным средним значением после нормировки признаков через стандартное отклонение?"
   ]
  },
  {
   "cell_type": "code",
   "execution_count": 12,
   "id": "c7637498",
   "metadata": {
    "scrolled": true
   },
   "outputs": [
    {
     "name": "stdout",
     "output_type": "stream",
     "text": [
      "Cтолбец с максимальным средним значением:  adr\n"
     ]
    },
    {
     "data": {
      "text/html": [
       "<div>\n",
       "<style scoped>\n",
       "    .dataframe tbody tr th:only-of-type {\n",
       "        vertical-align: middle;\n",
       "    }\n",
       "\n",
       "    .dataframe tbody tr th {\n",
       "        vertical-align: top;\n",
       "    }\n",
       "\n",
       "    .dataframe thead th {\n",
       "        text-align: right;\n",
       "    }\n",
       "</style>\n",
       "<table border=\"1\" class=\"dataframe\">\n",
       "  <thead>\n",
       "    <tr style=\"text-align: right;\">\n",
       "      <th></th>\n",
       "      <th>is_canceled</th>\n",
       "      <th>lead_time</th>\n",
       "      <th>arrival_date_year</th>\n",
       "      <th>arrival_date_week_number</th>\n",
       "      <th>arrival_date_day_of_month</th>\n",
       "      <th>stays_in_weekend_nights</th>\n",
       "      <th>stays_in_week_nights</th>\n",
       "      <th>adults</th>\n",
       "      <th>children</th>\n",
       "      <th>babies</th>\n",
       "      <th>is_repeated_guest</th>\n",
       "      <th>previous_cancellations</th>\n",
       "      <th>previous_bookings_not_canceled</th>\n",
       "      <th>booking_changes</th>\n",
       "      <th>agent</th>\n",
       "      <th>company</th>\n",
       "      <th>days_in_waiting_list</th>\n",
       "      <th>adr</th>\n",
       "      <th>required_car_parking_spaces</th>\n",
       "      <th>total_of_special_requests</th>\n",
       "    </tr>\n",
       "  </thead>\n",
       "  <tbody>\n",
       "    <tr>\n",
       "      <th>count</th>\n",
       "      <td>1.193900e+05</td>\n",
       "      <td>1.193900e+05</td>\n",
       "      <td>1.193900e+05</td>\n",
       "      <td>1.193900e+05</td>\n",
       "      <td>1.193900e+05</td>\n",
       "      <td>1.193900e+05</td>\n",
       "      <td>1.193900e+05</td>\n",
       "      <td>1.193900e+05</td>\n",
       "      <td>1.193860e+05</td>\n",
       "      <td>1.193900e+05</td>\n",
       "      <td>1.193900e+05</td>\n",
       "      <td>1.193900e+05</td>\n",
       "      <td>1.193900e+05</td>\n",
       "      <td>1.193900e+05</td>\n",
       "      <td>1.030500e+05</td>\n",
       "      <td>6.797000e+03</td>\n",
       "      <td>1.193900e+05</td>\n",
       "      <td>1.193900e+05</td>\n",
       "      <td>1.193900e+05</td>\n",
       "      <td>1.193900e+05</td>\n",
       "    </tr>\n",
       "    <tr>\n",
       "      <th>mean</th>\n",
       "      <td>-5.713385e-17</td>\n",
       "      <td>6.094277e-17</td>\n",
       "      <td>-8.406294e-14</td>\n",
       "      <td>-1.295034e-16</td>\n",
       "      <td>2.475800e-17</td>\n",
       "      <td>1.197430e-16</td>\n",
       "      <td>-2.761469e-17</td>\n",
       "      <td>3.237585e-17</td>\n",
       "      <td>1.714073e-17</td>\n",
       "      <td>2.047296e-17</td>\n",
       "      <td>9.522308e-18</td>\n",
       "      <td>-3.142362e-17</td>\n",
       "      <td>2.047296e-17</td>\n",
       "      <td>3.428031e-17</td>\n",
       "      <td>5.295457e-17</td>\n",
       "      <td>3.240669e-17</td>\n",
       "      <td>3.904146e-17</td>\n",
       "      <td>2.513889e-16</td>\n",
       "      <td>-5.713385e-18</td>\n",
       "      <td>-5.332493e-17</td>\n",
       "    </tr>\n",
       "    <tr>\n",
       "      <th>std</th>\n",
       "      <td>1.000004e+00</td>\n",
       "      <td>1.000004e+00</td>\n",
       "      <td>1.000004e+00</td>\n",
       "      <td>1.000004e+00</td>\n",
       "      <td>1.000004e+00</td>\n",
       "      <td>1.000004e+00</td>\n",
       "      <td>1.000004e+00</td>\n",
       "      <td>1.000004e+00</td>\n",
       "      <td>1.000004e+00</td>\n",
       "      <td>1.000004e+00</td>\n",
       "      <td>1.000004e+00</td>\n",
       "      <td>1.000004e+00</td>\n",
       "      <td>1.000004e+00</td>\n",
       "      <td>1.000004e+00</td>\n",
       "      <td>1.000005e+00</td>\n",
       "      <td>1.000074e+00</td>\n",
       "      <td>1.000004e+00</td>\n",
       "      <td>1.000004e+00</td>\n",
       "      <td>1.000004e+00</td>\n",
       "      <td>1.000004e+00</td>\n",
       "    </tr>\n",
       "    <tr>\n",
       "      <th>min</th>\n",
       "      <td>-7.670405e-01</td>\n",
       "      <td>-9.733187e-01</td>\n",
       "      <td>-1.634768e+00</td>\n",
       "      <td>-1.923191e+00</td>\n",
       "      <td>-1.685297e+00</td>\n",
       "      <td>-9.288904e-01</td>\n",
       "      <td>-1.310240e+00</td>\n",
       "      <td>-3.204792e+00</td>\n",
       "      <td>-2.606633e-01</td>\n",
       "      <td>-8.157926e-02</td>\n",
       "      <td>-1.815604e-01</td>\n",
       "      <td>-1.031795e-01</td>\n",
       "      <td>-9.155477e-02</td>\n",
       "      <td>-3.389899e-01</td>\n",
       "      <td>-7.735874e-01</td>\n",
       "      <td>-1.392125e+00</td>\n",
       "      <td>-1.319236e-01</td>\n",
       "      <td>-2.141286e+00</td>\n",
       "      <td>-2.548729e-01</td>\n",
       "      <td>-7.206941e-01</td>\n",
       "    </tr>\n",
       "    <tr>\n",
       "      <th>25%</th>\n",
       "      <td>-7.670405e-01</td>\n",
       "      <td>-8.048782e-01</td>\n",
       "      <td>-2.212864e-01</td>\n",
       "      <td>-8.206620e-01</td>\n",
       "      <td>-8.881022e-01</td>\n",
       "      <td>-9.288904e-01</td>\n",
       "      <td>-7.862072e-01</td>\n",
       "      <td>2.478973e-01</td>\n",
       "      <td>-2.606633e-01</td>\n",
       "      <td>-8.157926e-02</td>\n",
       "      <td>-1.815604e-01</td>\n",
       "      <td>-1.031795e-01</td>\n",
       "      <td>-9.155477e-02</td>\n",
       "      <td>-3.389899e-01</td>\n",
       "      <td>-7.013683e-01</td>\n",
       "      <td>-9.667395e-01</td>\n",
       "      <td>-1.319236e-01</td>\n",
       "      <td>-6.439250e-01</td>\n",
       "      <td>-2.548729e-01</td>\n",
       "      <td>-7.206941e-01</td>\n",
       "    </tr>\n",
       "    <tr>\n",
       "      <th>50%</th>\n",
       "      <td>-7.670405e-01</td>\n",
       "      <td>-3.276301e-01</td>\n",
       "      <td>-2.212864e-01</td>\n",
       "      <td>6.136141e-02</td>\n",
       "      <td>2.297730e-02</td>\n",
       "      <td>7.250220e-02</td>\n",
       "      <td>-2.621744e-01</td>\n",
       "      <td>2.478973e-01</td>\n",
       "      <td>-2.606633e-01</td>\n",
       "      <td>-8.157926e-02</td>\n",
       "      <td>-1.815604e-01</td>\n",
       "      <td>-1.031795e-01</td>\n",
       "      <td>-9.155477e-02</td>\n",
       "      <td>-3.389899e-01</td>\n",
       "      <td>-6.562314e-01</td>\n",
       "      <td>-7.798784e-02</td>\n",
       "      <td>-1.319236e-01</td>\n",
       "      <td>-1.435844e-01</td>\n",
       "      <td>-2.548729e-01</td>\n",
       "      <td>-7.206941e-01</td>\n",
       "    </tr>\n",
       "    <tr>\n",
       "      <th>75%</th>\n",
       "      <td>1.303712e+00</td>\n",
       "      <td>5.239303e-01</td>\n",
       "      <td>1.192195e+00</td>\n",
       "      <td>7.963809e-01</td>\n",
       "      <td>8.201718e-01</td>\n",
       "      <td>1.073895e+00</td>\n",
       "      <td>2.618584e-01</td>\n",
       "      <td>2.478973e-01</td>\n",
       "      <td>-2.606633e-01</td>\n",
       "      <td>-8.157926e-02</td>\n",
       "      <td>-1.815604e-01</td>\n",
       "      <td>-1.031795e-01</td>\n",
       "      <td>-9.155477e-02</td>\n",
       "      <td>-3.389899e-01</td>\n",
       "      <td>1.284657e+00</td>\n",
       "      <td>6.132634e-01</td>\n",
       "      <td>-1.319236e-01</td>\n",
       "      <td>4.782547e-01</td>\n",
       "      <td>-2.548729e-01</td>\n",
       "      <td>5.406659e-01</td>\n",
       "    </tr>\n",
       "    <tr>\n",
       "      <th>max</th>\n",
       "      <td>1.303712e+00</td>\n",
       "      <td>5.923385e+00</td>\n",
       "      <td>1.192195e+00</td>\n",
       "      <td>1.898910e+00</td>\n",
       "      <td>1.731251e+00</td>\n",
       "      <td>1.809757e+01</td>\n",
       "      <td>2.489140e+01</td>\n",
       "      <td>9.174417e+01</td>\n",
       "      <td>2.482968e+01</td>\n",
       "      <td>1.025501e+02</td>\n",
       "      <td>5.507809e+00</td>\n",
       "      <td>3.069036e+01</td>\n",
       "      <td>4.799081e+01</td>\n",
       "      <td>3.185465e+01</td>\n",
       "      <td>4.047038e+00</td>\n",
       "      <td>2.687017e+00</td>\n",
       "      <td>2.209074e+01</td>\n",
       "      <td>1.048404e+02</td>\n",
       "      <td>3.235957e+01</td>\n",
       "      <td>5.586106e+00</td>\n",
       "    </tr>\n",
       "  </tbody>\n",
       "</table>\n",
       "</div>"
      ],
      "text/plain": [
       "        is_canceled     lead_time  arrival_date_year   \n",
       "count  1.193900e+05  1.193900e+05       1.193900e+05  \\\n",
       "mean  -5.713385e-17  6.094277e-17      -8.406294e-14   \n",
       "std    1.000004e+00  1.000004e+00       1.000004e+00   \n",
       "min   -7.670405e-01 -9.733187e-01      -1.634768e+00   \n",
       "25%   -7.670405e-01 -8.048782e-01      -2.212864e-01   \n",
       "50%   -7.670405e-01 -3.276301e-01      -2.212864e-01   \n",
       "75%    1.303712e+00  5.239303e-01       1.192195e+00   \n",
       "max    1.303712e+00  5.923385e+00       1.192195e+00   \n",
       "\n",
       "       arrival_date_week_number  arrival_date_day_of_month   \n",
       "count              1.193900e+05               1.193900e+05  \\\n",
       "mean              -1.295034e-16               2.475800e-17   \n",
       "std                1.000004e+00               1.000004e+00   \n",
       "min               -1.923191e+00              -1.685297e+00   \n",
       "25%               -8.206620e-01              -8.881022e-01   \n",
       "50%                6.136141e-02               2.297730e-02   \n",
       "75%                7.963809e-01               8.201718e-01   \n",
       "max                1.898910e+00               1.731251e+00   \n",
       "\n",
       "       stays_in_weekend_nights  stays_in_week_nights        adults   \n",
       "count             1.193900e+05          1.193900e+05  1.193900e+05  \\\n",
       "mean              1.197430e-16         -2.761469e-17  3.237585e-17   \n",
       "std               1.000004e+00          1.000004e+00  1.000004e+00   \n",
       "min              -9.288904e-01         -1.310240e+00 -3.204792e+00   \n",
       "25%              -9.288904e-01         -7.862072e-01  2.478973e-01   \n",
       "50%               7.250220e-02         -2.621744e-01  2.478973e-01   \n",
       "75%               1.073895e+00          2.618584e-01  2.478973e-01   \n",
       "max               1.809757e+01          2.489140e+01  9.174417e+01   \n",
       "\n",
       "           children        babies  is_repeated_guest  previous_cancellations   \n",
       "count  1.193860e+05  1.193900e+05       1.193900e+05            1.193900e+05  \\\n",
       "mean   1.714073e-17  2.047296e-17       9.522308e-18           -3.142362e-17   \n",
       "std    1.000004e+00  1.000004e+00       1.000004e+00            1.000004e+00   \n",
       "min   -2.606633e-01 -8.157926e-02      -1.815604e-01           -1.031795e-01   \n",
       "25%   -2.606633e-01 -8.157926e-02      -1.815604e-01           -1.031795e-01   \n",
       "50%   -2.606633e-01 -8.157926e-02      -1.815604e-01           -1.031795e-01   \n",
       "75%   -2.606633e-01 -8.157926e-02      -1.815604e-01           -1.031795e-01   \n",
       "max    2.482968e+01  1.025501e+02       5.507809e+00            3.069036e+01   \n",
       "\n",
       "       previous_bookings_not_canceled  booking_changes         agent   \n",
       "count                    1.193900e+05     1.193900e+05  1.030500e+05  \\\n",
       "mean                     2.047296e-17     3.428031e-17  5.295457e-17   \n",
       "std                      1.000004e+00     1.000004e+00  1.000005e+00   \n",
       "min                     -9.155477e-02    -3.389899e-01 -7.735874e-01   \n",
       "25%                     -9.155477e-02    -3.389899e-01 -7.013683e-01   \n",
       "50%                     -9.155477e-02    -3.389899e-01 -6.562314e-01   \n",
       "75%                     -9.155477e-02    -3.389899e-01  1.284657e+00   \n",
       "max                      4.799081e+01     3.185465e+01  4.047038e+00   \n",
       "\n",
       "            company  days_in_waiting_list           adr   \n",
       "count  6.797000e+03          1.193900e+05  1.193900e+05  \\\n",
       "mean   3.240669e-17          3.904146e-17  2.513889e-16   \n",
       "std    1.000074e+00          1.000004e+00  1.000004e+00   \n",
       "min   -1.392125e+00         -1.319236e-01 -2.141286e+00   \n",
       "25%   -9.667395e-01         -1.319236e-01 -6.439250e-01   \n",
       "50%   -7.798784e-02         -1.319236e-01 -1.435844e-01   \n",
       "75%    6.132634e-01         -1.319236e-01  4.782547e-01   \n",
       "max    2.687017e+00          2.209074e+01  1.048404e+02   \n",
       "\n",
       "       required_car_parking_spaces  total_of_special_requests  \n",
       "count                 1.193900e+05               1.193900e+05  \n",
       "mean                 -5.713385e-18              -5.332493e-17  \n",
       "std                   1.000004e+00               1.000004e+00  \n",
       "min                  -2.548729e-01              -7.206941e-01  \n",
       "25%                  -2.548729e-01              -7.206941e-01  \n",
       "50%                  -2.548729e-01              -7.206941e-01  \n",
       "75%                  -2.548729e-01               5.406659e-01  \n",
       "max                   3.235957e+01               5.586106e+00  "
      ]
     },
     "execution_count": 12,
     "metadata": {},
     "output_type": "execute_result"
    }
   ],
   "source": [
    "numeric_cols = ['is_canceled', 'lead_time', 'arrival_date_year', 'arrival_date_week_number', 'arrival_date_day_of_month',\n",
    "                'stays_in_weekend_nights', 'stays_in_week_nights', 'adults', 'children', 'babies', 'is_repeated_guest',\n",
    "                'previous_cancellations', 'previous_bookings_not_canceled', 'booking_changes', 'agent', 'company',\n",
    "                'days_in_waiting_list', 'adr', 'required_car_parking_spaces', 'total_of_special_requests']\n",
    "\n",
    "# создание матрицы признаков\n",
    "X = df[numeric_cols]\n",
    "\n",
    "# создание объекта StandardScaler\n",
    "scaler = StandardScaler()\n",
    "\n",
    "# стандартизация признаков\n",
    "X_scaled = scaler.fit_transform(X)\n",
    "\n",
    "# создание датафрейма с нормированными признаками\n",
    "df_scaled = pd.DataFrame(X_scaled, columns=numeric_cols)\n",
    "\n",
    "# выбор столбца с максимальным средним значением\n",
    "max_mean_col = df_scaled.mean().idxmax()\n",
    "\n",
    "# вывод столбца с максимальным средним значением\n",
    "print(\"Cтолбец с максимальным средним значением: \",max_mean_col)\n",
    "\n",
    "# вывод таблицы после нормировки признаков через стандартное отклонение\n",
    "df_scaled.describe()"
   ]
  },
  {
   "cell_type": "markdown",
   "id": "08a68144",
   "metadata": {},
   "source": [
    "Из данных работы функции, выполненной в блоке выше, видим, что столбец с максимальным средним значением после нормировки признаков - adr."
   ]
  },
  {
   "cell_type": "markdown",
   "id": "de4d1a08",
   "metadata": {},
   "source": [
    "## 11. Столбец с целевым признаком?"
   ]
  },
  {
   "cell_type": "markdown",
   "id": "93814130",
   "metadata": {},
   "source": [
    "Поскольку мы собираемся делать прогноз отмены брони. В качестве целевого признака будет выбран - booking_changes"
   ]
  },
  {
   "cell_type": "markdown",
   "id": "1c805130",
   "metadata": {},
   "source": [
    "## 12. Сколько объектов попадает в тренировочную выборку при использовании train_test_split с параметрами test_size = 0.3, random_state = 42?"
   ]
  },
  {
   "cell_type": "code",
   "execution_count": 13,
   "id": "3e647cb0",
   "metadata": {},
   "outputs": [
    {
     "name": "stdout",
     "output_type": "stream",
     "text": [
      "Тренировчная выборка:  (83573, 31) Тестовая выборка:  (35817, 31)\n"
     ]
    }
   ],
   "source": [
    "# Исключим столбец с целевым признаком из датасета для тренировки\n",
    "training = df.drop('booking_changes', axis=1)\n",
    "test = df['booking_changes']\n",
    "\n",
    "# Разделим данные на тренировочные и проверочные\n",
    "x_train, x_test, y_train, y_test = train_test_split(training, test, test_size=0.3, random_state=42)\n",
    "\n",
    "print(\"Тренировчная выборка: \", x_train.shape, \"Тестовая выборка: \", x_test.shape)\n",
    "\n"
   ]
  },
  {
   "cell_type": "markdown",
   "id": "6d4d2a28",
   "metadata": {},
   "source": [
    "Судя по размерам таблицы, в тренировочную выборку пойдет 83573 объектов, а в тестовую 35817."
   ]
  },
  {
   "cell_type": "markdown",
   "id": "5b049ea1",
   "metadata": {},
   "source": [
    "## 13. Между какими признаками наблюдается линейная зависимость (корреляция)?"
   ]
  },
  {
   "cell_type": "code",
   "execution_count": 14,
   "id": "786ede56",
   "metadata": {},
   "outputs": [
    {
     "name": "stdout",
     "output_type": "stream",
     "text": [
      "const                             4.493740e+07\n",
      "is_canceled                       1.067961e+00\n",
      "lead_time                         2.145151e+00\n",
      "arrival_date_year                 5.704551e+00\n",
      "arrival_date_week_number          4.459099e+00\n",
      "arrival_date_day_of_month         1.576790e+00\n",
      "stays_in_weekend_nights           4.750043e+00\n",
      "stays_in_week_nights              5.837130e+00\n",
      "adults                            1.450299e+00\n",
      "children                          1.566940e+00\n",
      "babies                                     NaN\n",
      "is_repeated_guest                 2.732676e+00\n",
      "previous_cancellations            1.227147e+00\n",
      "previous_bookings_not_canceled    2.982947e+00\n",
      "booking_changes                   1.619719e+00\n",
      "agent                             2.317488e+00\n",
      "company                           1.752223e+00\n",
      "days_in_waiting_list                       NaN\n",
      "adr                               2.768751e+00\n",
      "required_car_parking_spaces       1.054014e+00\n",
      "total_of_special_requests         1.688677e+00\n",
      "dtype: float64\n"
     ]
    },
    {
     "name": "stderr",
     "output_type": "stream",
     "text": [
      "C:\\Users\\Иван\\AppData\\Local\\Programs\\Python\\Python311\\Lib\\site-packages\\statsmodels\\regression\\linear_model.py:1781: RuntimeWarning: invalid value encountered in scalar divide\n",
      "  return 1 - self.ssr/self.centered_tss\n"
     ]
    }
   ],
   "source": [
    "# Для выявления мультиколлениарности признаков, будем использовать VIF \n",
    "numeric_cols = ['is_canceled', 'lead_time', 'arrival_date_year', 'arrival_date_week_number', 'arrival_date_day_of_month',\n",
    "                'stays_in_weekend_nights', 'stays_in_week_nights', 'adults', 'children', 'babies', 'is_repeated_guest',\n",
    "                'previous_cancellations', 'previous_bookings_not_canceled', 'booking_changes', 'agent', 'company',\n",
    "                'days_in_waiting_list', 'adr', 'required_car_parking_spaces', 'total_of_special_requests']\n",
    "\n",
    "df = df.dropna()\n",
    "# создание матрицы признаков\n",
    "X = df[numeric_cols]\n",
    "\n",
    "# добавление константы к матрице признаков\n",
    "X = sm.add_constant(X)\n",
    "\n",
    "# определение VIF для каждого признака\n",
    "vif = pd.Series([variance_inflation_factor(X.values, i) for i in range(X.shape[1])], index=X.columns)\n",
    "\n",
    "# вывод результатов\n",
    "print(vif)"
   ]
  },
  {
   "cell_type": "markdown",
   "id": "43d79cc9",
   "metadata": {},
   "source": [
    "На основе данных полученых выше ожно сделать вывод: однозначная корреляция наблюдается между признаками у которых vif > 4, то есть у признаков arrival_date_year, arrival_date_week_number, stays_in_weekend_nights, stays_in_week_nights."
   ]
  },
  {
   "cell_type": "markdown",
   "id": "696a996b",
   "metadata": {},
   "source": [
    "## 14. Сколько признаков достаточно для объяснения 90% дисперсии после применения метода PCA?"
   ]
  },
  {
   "cell_type": "code",
   "execution_count": 15,
   "id": "cde6129b",
   "metadata": {
    "scrolled": false
   },
   "outputs": [
    {
     "name": "stdout",
     "output_type": "stream",
     "text": [
      "Количество компонентов достаточных для объяснения 90% дисперсии:  8\n",
      "Суммарная доля объясненной дисперсии для модели PCA:  0.9006748788508198\n"
     ]
    }
   ],
   "source": [
    "# отбор только числовых признаков\n",
    "numeric_cols = x_train.select_dtypes(include='number').columns.tolist()\n",
    "\n",
    "# стандартизация числовых признаков\n",
    "stand_X = pd.DataFrame(preprocessing.scale(x_train[numeric_cols]), columns=numeric_cols)\n",
    "stand_X = stand_X.dropna()\n",
    "\n",
    "# PCA\n",
    "pca = PCA(0.90) # 90% дисперсии\n",
    "pca.fit(stand_X)\n",
    "print(\"Количество компонентов достаточных для объяснения 90% дисперсии: \", pca.n_components_)\n",
    "print(\"Суммарная доля объясненной дисперсии для модели PCA: \" ,sum(pca.explained_variance_ratio_))"
   ]
  },
  {
   "cell_type": "markdown",
   "id": "0bc43072",
   "metadata": {},
   "source": [
    "## 15. Какой признак вносит наибольший вклад в первую компоненту?"
   ]
  },
  {
   "cell_type": "code",
   "execution_count": 16,
   "id": "aa1d38ad",
   "metadata": {},
   "outputs": [
    {
     "name": "stdout",
     "output_type": "stream",
     "text": [
      "Наибольший вклад вносит:  6 0.7316437151296429\n"
     ]
    }
   ],
   "source": [
    "pca = PCA(n_components=8)\n",
    "x = pca.fit(stand_X)\n",
    "first_component = pca.components_[0]\n",
    "greatest_contribution_i = 0\n",
    "greatest_contribution = first_component[greatest_contribution_i]\n",
    "\n",
    "for i in range(0, len(first_component)):\n",
    "    if  abs(first_component[i]) >  abs(greatest_contribution):\n",
    "        greatest_contribution = first_component[i]\n",
    "        greatest_contribution_i = i\n",
    "print(\"Наибольший вклад вносит: \" ,greatest_contribution_i, greatest_contribution)"
   ]
  },
  {
   "cell_type": "markdown",
   "id": "ed1a9268",
   "metadata": {},
   "source": [
    "Наибольший вклад в первую компоненту вносит 6 признак."
   ]
  },
  {
   "cell_type": "code",
   "execution_count": 17,
   "id": "afe1a17b",
   "metadata": {},
   "outputs": [
    {
     "data": {
      "text/plain": [
       "106      0.260446\n",
       "363      3.916275\n",
       "1697    -0.784076\n",
       "2353     1.304969\n",
       "4181     1.827230\n",
       "           ...   \n",
       "80591   -1.306337\n",
       "80885    0.782708\n",
       "81597    3.916275\n",
       "81718    1.304969\n",
       "83047    0.260446\n",
       "Name: stays_in_week_nights, Length: 156, dtype: float64"
      ]
     },
     "execution_count": 17,
     "metadata": {},
     "output_type": "execute_result"
    }
   ],
   "source": [
    "stand_X.iloc[:, 6]"
   ]
  },
  {
   "cell_type": "markdown",
   "id": "8ff2fc92",
   "metadata": {},
   "source": [
    "Видим, что это stays_in_week_nights"
   ]
  },
  {
   "cell_type": "markdown",
   "id": "1db014b8",
   "metadata": {},
   "source": [
    "## 16. Построить двухмерное представление данных с помощью алгоритма t-SNE. На сколько кластеров визуально, на ваш взгляд, разделяется выборка? Объяснить смысл кластеров."
   ]
  },
  {
   "cell_type": "code",
   "execution_count": 18,
   "id": "df7f0840",
   "metadata": {},
   "outputs": [
    {
     "data": {
      "image/png": "[encoded data removed]",
      "text/plain": [
       "<Figure size 640x480 with 1 Axes>"
      ]
     },
     "metadata": {},
     "output_type": "display_data"
    }
   ],
   "source": [
    "# выбор признаков для анализа\n",
    "numeric_cols = ['is_canceled', 'lead_time', 'arrival_date_year', 'arrival_date_week_number', 'arrival_date_day_of_month',\n",
    "                'stays_in_weekend_nights', 'stays_in_week_nights', 'adults', 'children', 'babies', 'is_repeated_guest',\n",
    "                'previous_cancellations', 'previous_bookings_not_canceled', 'booking_changes', 'agent', 'company',\n",
    "                'days_in_waiting_list', 'adr', 'required_car_parking_spaces', 'total_of_special_requests']\n",
    "\n",
    "# применение алгоритма t-SNE\n",
    "tsne = TSNE(n_components=2, random_state=42)\n",
    "df_tsne = tsne.fit_transform(df[numeric_cols])\n",
    "\n",
    "# создание графика\n",
    "plt.scatter(df_tsne[:, 0], df_tsne[:, 1], alpha=0.5)\n",
    "plt.xlabel('t-SNE 1')\n",
    "plt.ylabel('t-SNE 2')\n",
    "plt.title('t-SNE visualization')\n",
    "plt.show()"
   ]
  },
  {
   "cell_type": "markdown",
   "id": "7487f8f3",
   "metadata": {},
   "source": [
    "Визуально выборка разделяется от 4 до 8 кластеров, однако чёткого разделения не видно.\n",
    "\n",
    "Каждый кластер точек, т.е. группа точек, близких друг к другу на графике, указывает на определенный тип бронирования. Таким образом, можно использовать кластерный анализ для выделения схожих групп объектов и анализа их характеристик."
   ]
  }
 ],
 "metadata": {
  "kernelspec": {
   "display_name": "Python 3 (ipykernel)",
   "language": "python",
   "name": "python3"
  },
  "language_info": {
   "codemirror_mode": {
    "name": "ipython",
    "version": 3
   },
   "file_extension": ".py",
   "mimetype": "text/x-python",
   "name": "python",
   "nbconvert_exporter": "python",
   "pygments_lexer": "ipython3",
   "version": "3.11.2"
  }
 },
 "nbformat": 4,
 "nbformat_minor": 5
}
